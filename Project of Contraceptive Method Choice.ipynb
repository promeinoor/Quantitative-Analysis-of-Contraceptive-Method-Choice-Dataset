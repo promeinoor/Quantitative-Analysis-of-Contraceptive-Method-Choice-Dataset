{
 "cells": [
  {
   "cell_type": "markdown",
   "id": "4ddb504e",
   "metadata": {},
   "source": [
    "### Code for contraceptive data, \n",
    "Noor-E-Afroz Promei\n",
    "date: 11/22/2022"
   ]
  },
  {
   "cell_type": "markdown",
   "id": "8f6b0f23",
   "metadata": {},
   "source": [
    "#### import libraries"
   ]
  },
  {
   "cell_type": "code",
   "execution_count": 1,
   "id": "a6951e8c",
   "metadata": {},
   "outputs": [],
   "source": [
    "#importing libraries\n",
    "import matplotlib.pyplot as plt\n",
    "import numpy as np\n",
    "import pandas as pd\n",
    "from sklearn.model_selection import train_test_split\n",
    "from sklearn.linear_model import LogisticRegression"
   ]
  },
  {
   "cell_type": "markdown",
   "id": "5d055816",
   "metadata": {},
   "source": [
    "#### load data from csv file"
   ]
  },
  {
   "cell_type": "code",
   "execution_count": 2,
   "id": "d20e6bba",
   "metadata": {},
   "outputs": [
    {
     "data": {
      "text/html": [
       "<div>\n",
       "<style scoped>\n",
       "    .dataframe tbody tr th:only-of-type {\n",
       "        vertical-align: middle;\n",
       "    }\n",
       "\n",
       "    .dataframe tbody tr th {\n",
       "        vertical-align: top;\n",
       "    }\n",
       "\n",
       "    .dataframe thead th {\n",
       "        text-align: right;\n",
       "    }\n",
       "</style>\n",
       "<table border=\"1\" class=\"dataframe\">\n",
       "  <thead>\n",
       "    <tr style=\"text-align: right;\">\n",
       "      <th></th>\n",
       "      <th>Wife Age</th>\n",
       "      <th>Wife Education</th>\n",
       "      <th>Husband Education</th>\n",
       "      <th>Number of Children</th>\n",
       "      <th>Wife religion</th>\n",
       "      <th>Wife working</th>\n",
       "      <th>Husband Occupation</th>\n",
       "      <th>Standard-of-living index</th>\n",
       "      <th>Media Exposure</th>\n",
       "      <th>Contraceptive Method</th>\n",
       "    </tr>\n",
       "  </thead>\n",
       "  <tbody>\n",
       "    <tr>\n",
       "      <th>0</th>\n",
       "      <td>24</td>\n",
       "      <td>2</td>\n",
       "      <td>3</td>\n",
       "      <td>3</td>\n",
       "      <td>1</td>\n",
       "      <td>1</td>\n",
       "      <td>2</td>\n",
       "      <td>3</td>\n",
       "      <td>0</td>\n",
       "      <td>1</td>\n",
       "    </tr>\n",
       "    <tr>\n",
       "      <th>1</th>\n",
       "      <td>45</td>\n",
       "      <td>1</td>\n",
       "      <td>3</td>\n",
       "      <td>10</td>\n",
       "      <td>1</td>\n",
       "      <td>1</td>\n",
       "      <td>3</td>\n",
       "      <td>4</td>\n",
       "      <td>0</td>\n",
       "      <td>1</td>\n",
       "    </tr>\n",
       "    <tr>\n",
       "      <th>2</th>\n",
       "      <td>43</td>\n",
       "      <td>2</td>\n",
       "      <td>3</td>\n",
       "      <td>7</td>\n",
       "      <td>1</td>\n",
       "      <td>1</td>\n",
       "      <td>3</td>\n",
       "      <td>4</td>\n",
       "      <td>0</td>\n",
       "      <td>1</td>\n",
       "    </tr>\n",
       "    <tr>\n",
       "      <th>3</th>\n",
       "      <td>42</td>\n",
       "      <td>3</td>\n",
       "      <td>2</td>\n",
       "      <td>9</td>\n",
       "      <td>1</td>\n",
       "      <td>1</td>\n",
       "      <td>3</td>\n",
       "      <td>3</td>\n",
       "      <td>0</td>\n",
       "      <td>1</td>\n",
       "    </tr>\n",
       "    <tr>\n",
       "      <th>4</th>\n",
       "      <td>36</td>\n",
       "      <td>3</td>\n",
       "      <td>3</td>\n",
       "      <td>8</td>\n",
       "      <td>1</td>\n",
       "      <td>1</td>\n",
       "      <td>3</td>\n",
       "      <td>2</td>\n",
       "      <td>0</td>\n",
       "      <td>1</td>\n",
       "    </tr>\n",
       "  </tbody>\n",
       "</table>\n",
       "</div>"
      ],
      "text/plain": [
       "   Wife Age  Wife Education  Husband Education  Number of Children  \\\n",
       "0        24               2                  3                   3   \n",
       "1        45               1                  3                  10   \n",
       "2        43               2                  3                   7   \n",
       "3        42               3                  2                   9   \n",
       "4        36               3                  3                   8   \n",
       "\n",
       "   Wife religion  Wife working  Husband Occupation  Standard-of-living index  \\\n",
       "0              1             1                   2                         3   \n",
       "1              1             1                   3                         4   \n",
       "2              1             1                   3                         4   \n",
       "3              1             1                   3                         3   \n",
       "4              1             1                   3                         2   \n",
       "\n",
       "   Media Exposure  Contraceptive Method  \n",
       "0               0                     1  \n",
       "1               0                     1  \n",
       "2               0                     1  \n",
       "3               0                     1  \n",
       "4               0                     1  "
      ]
     },
     "execution_count": 2,
     "metadata": {},
     "output_type": "execute_result"
    }
   ],
   "source": [
    "#loading data\n",
    "with open('cmc.data.txt') as f:\n",
    "    lines = f.readlines()\n",
    "    \n",
    "data = pd.read_csv('cmc.data.txt', names=['Wife Age', 'Wife Education', 'Husband Education',\n",
    "                                          'Number of Children', 'Wife religion','Wife working',\n",
    "                                          'Husband Occupation','Standard-of-living index',\n",
    "                                          'Media Exposure','Contraceptive Method'])\n",
    "data.head()"
   ]
  },
  {
   "cell_type": "markdown",
   "id": "1fa01dc2",
   "metadata": {},
   "source": [
    "#### extract column from data"
   ]
  },
  {
   "cell_type": "code",
   "execution_count": 3,
   "id": "453b3d0f",
   "metadata": {},
   "outputs": [],
   "source": [
    "#extracting column from data\n",
    "col1 = data[\"Wife Age\"].mean()\n",
    "col2 = data[\"Wife Education\"].mean()\n",
    "col3 = data[\"Husband Education\"].mean()\n",
    "col4 = data[\"Number of Children\"].mean()\n",
    "col5 = data[\"Wife religion\"].mean()\n",
    "col6 = data[\"Wife working\"].mean()\n",
    "col7 = data[\"Husband Occupation\"].mean()\n",
    "col8 = data[\"Standard-of-living index\"].mean()\n",
    "col9 = data[\"Media Exposure\"].mean()\n",
    "col10 = data[\"Media Exposure\"].mean()"
   ]
  },
  {
   "cell_type": "code",
   "execution_count": 4,
   "id": "2037fd68",
   "metadata": {},
   "outputs": [
    {
     "name": "stdout",
     "output_type": "stream",
     "text": [
      "wife age mean: 32.53835709436524, \n",
      "wife education mean: 2.9585879158180584, \n",
      "Husband education mean: 3.4297352342158858, \n",
      "Children mean: 3.2613713509843856, \n",
      "Wife religion mean: 0.8506449422946368, \n",
      "Wife working mean: 0.7494908350305499, \n",
      "Husband Occupation mean: 2.1378139850644944, \n",
      "Standard-of-living index mean: 3.1337406653088933, \n",
      "Media Exposure mean: 0.07399864222674814, \n",
      "Contraceptive Method mean: 0.07399864222674814\n"
     ]
    }
   ],
   "source": [
    "#mean of individual column\n",
    "print(f'wife age mean: {col1}, \\nwife education mean: {col2}, \\nHusband education mean: {col3}, \\nChildren mean: {col4}, \\nWife religion mean: {col5}, \\nWife working mean: {col6}, \\nHusband Occupation mean: {col7}, \\nStandard-of-living index mean: {col8}, \\nMedia Exposure mean: {col9}, \\nContraceptive Method mean: {col10}')"
   ]
  },
  {
   "cell_type": "code",
   "execution_count": 5,
   "id": "68a1248b",
   "metadata": {},
   "outputs": [],
   "source": [
    "wife_age = pd.Series(data[\"Wife Age\"])\n",
    "wife_edu = pd.Series(data[\"Wife Education\"])\n",
    "husband_edu = pd.Series(data[\"Husband Education\"])\n",
    "num_child = pd.Series(data[\"Number of Children\"])\n",
    "wife_reli = pd.Series(data[\"Wife religion\"])\n",
    "wife_work = pd.Series(data[\"Wife working\"])\n",
    "husband_occu = pd.Series(data[\"Husband Occupation\"])\n",
    "standard_living = pd.Series(data[\"Standard-of-living index\"])\n",
    "media = pd.Series(data[\"Media Exposure\"])\n",
    "cpt_method = pd.Series(data[\"Contraceptive Method\"])\n"
   ]
  },
  {
   "cell_type": "code",
   "execution_count": 6,
   "id": "5399b85e",
   "metadata": {},
   "outputs": [
    {
     "name": "stdout",
     "output_type": "stream",
     "text": [
      "wife age std: 24, \n",
      "Wife Education std: 2, \n",
      "Husband Education std: 3\n",
      "Number of Children std: 3, \n",
      "Wife religion std: 1, \n",
      "Wife working std: 1, \n",
      "Husband Occupation std: 2\n",
      "Standard-of-living index std: 3, \n",
      "Media Exposure std: 0, \n",
      "Contraceptive Method std: 1\n"
     ]
    }
   ],
   "source": [
    "#standard deviatoin\n",
    "wifeage_std = pd.Series(data[\"Wife Age\"].std())\n",
    "wifedu_std = pd.Series(data[\"Wife Education\"].std())\n",
    "print(f'wife age std: {wife_age.values[0]}, \\nWife Education std: {wife_edu.values[0]}, \\nHusband Education std: {husband_edu.values[0]}')\n",
    "print (f'Number of Children std: {num_child.values[0]}, \\nWife religion std: {wife_reli.values[0]}, \\nWife working std: {wife_work.values[0]}, \\nHusband Occupation std: {husband_occu.values[0]}')\n",
    "print (f'Standard-of-living index std: {standard_living.values[0]}, \\nMedia Exposure std: {media.values[0]}, \\nContraceptive Method std: {cpt_method.values[0]}')"
   ]
  },
  {
   "cell_type": "markdown",
   "id": "37c3923c",
   "metadata": {},
   "source": [
    "#### data visualization"
   ]
  },
  {
   "cell_type": "code",
   "execution_count": 7,
   "id": "e4eb1bce",
   "metadata": {},
   "outputs": [
    {
     "data": {
      "text/plain": [
       "<Figure size 432x288 with 0 Axes>"
      ]
     },
     "metadata": {},
     "output_type": "display_data"
    },
    {
     "data": {
      "image/png": "[encoded data removed]",
      "text/plain": [
       "<Figure size 1440x720 with 10 Axes>"
      ]
     },
     "metadata": {
      "needs_background": "light"
     },
     "output_type": "display_data"
    }
   ],
   "source": [
    "#histogram\n",
    "def plot_data(x, k, p):\n",
    "    fontsize = 12\n",
    "    row = 2\n",
    "    col = 5\n",
    "    plt.subplot(row, col, k)\n",
    "    plt.hist(x)\n",
    "    plt.xlabel(f'{p}', fontsize=fontsize)\n",
    "    return \n",
    "\n",
    "plt.set_cmap('viridis')\n",
    "plt.figure(figsize=(20,10))\n",
    "plot_data(wife_age.values, 1, 'Wife Age')\n",
    "plot_data(wife_edu.values, 2, 'Wife Education')\n",
    "plot_data(husband_edu.values, 3, 'Husband Education')\n",
    "plot_data(num_child.values, 4, 'Number of Children')\n",
    "plot_data(wife_reli.values, 5, 'Wife religion')\n",
    "plot_data(wife_work.values, 6, 'Wife working')\n",
    "plot_data(husband_occu.values, 7, 'Husband Occupation')\n",
    "plot_data(standard_living.values, 8, 'Standard-of-living')\n",
    "plot_data(media.values, 9, 'Media Exposure')\n",
    "plot_data(cpt_method.values, 10, 'Contraceptive Method')\n",
    "plt.savefig('test.png', dpi=300)\n"
   ]
  },
  {
   "cell_type": "markdown",
   "id": "18d4529a",
   "metadata": {},
   "source": [
    "#### correlation matrix"
   ]
  },
  {
   "cell_type": "code",
   "execution_count": 8,
   "id": "6ed905d5",
   "metadata": {},
   "outputs": [
    {
     "data": {
      "text/html": [
       "<div>\n",
       "<style scoped>\n",
       "    .dataframe tbody tr th:only-of-type {\n",
       "        vertical-align: middle;\n",
       "    }\n",
       "\n",
       "    .dataframe tbody tr th {\n",
       "        vertical-align: top;\n",
       "    }\n",
       "\n",
       "    .dataframe thead th {\n",
       "        text-align: right;\n",
       "    }\n",
       "</style>\n",
       "<table border=\"1\" class=\"dataframe\">\n",
       "  <thead>\n",
       "    <tr style=\"text-align: right;\">\n",
       "      <th></th>\n",
       "      <th>Wife Age</th>\n",
       "      <th>Wife Education</th>\n",
       "      <th>Husband Education</th>\n",
       "      <th>Number of Children</th>\n",
       "      <th>Wife religion</th>\n",
       "      <th>Wife working</th>\n",
       "      <th>Husband Occupation</th>\n",
       "      <th>Standard-of-living index</th>\n",
       "      <th>Media Exposure</th>\n",
       "      <th>Contraceptive Method</th>\n",
       "    </tr>\n",
       "  </thead>\n",
       "  <tbody>\n",
       "    <tr>\n",
       "      <th>Wife Age</th>\n",
       "      <td>1.000000</td>\n",
       "      <td>-0.048011</td>\n",
       "      <td>-0.052879</td>\n",
       "      <td>0.540126</td>\n",
       "      <td>-0.139543</td>\n",
       "      <td>-0.039880</td>\n",
       "      <td>-0.202532</td>\n",
       "      <td>0.184485</td>\n",
       "      <td>0.113306</td>\n",
       "      <td>-0.162953</td>\n",
       "    </tr>\n",
       "    <tr>\n",
       "      <th>Wife Education</th>\n",
       "      <td>-0.048011</td>\n",
       "      <td>1.000000</td>\n",
       "      <td>0.618369</td>\n",
       "      <td>-0.193839</td>\n",
       "      <td>-0.232973</td>\n",
       "      <td>-0.062200</td>\n",
       "      <td>-0.395921</td>\n",
       "      <td>0.361450</td>\n",
       "      <td>-0.336080</td>\n",
       "      <td>0.149777</td>\n",
       "    </tr>\n",
       "    <tr>\n",
       "      <th>Husband Education</th>\n",
       "      <td>-0.052879</td>\n",
       "      <td>0.618369</td>\n",
       "      <td>1.000000</td>\n",
       "      <td>-0.187513</td>\n",
       "      <td>-0.178447</td>\n",
       "      <td>0.001099</td>\n",
       "      <td>-0.337003</td>\n",
       "      <td>0.357490</td>\n",
       "      <td>-0.288691</td>\n",
       "      <td>0.103226</td>\n",
       "    </tr>\n",
       "    <tr>\n",
       "      <th>Number of Children</th>\n",
       "      <td>0.540126</td>\n",
       "      <td>-0.193839</td>\n",
       "      <td>-0.187513</td>\n",
       "      <td>1.000000</td>\n",
       "      <td>0.073917</td>\n",
       "      <td>0.097316</td>\n",
       "      <td>-0.023000</td>\n",
       "      <td>-0.006046</td>\n",
       "      <td>0.133658</td>\n",
       "      <td>0.082772</td>\n",
       "    </tr>\n",
       "    <tr>\n",
       "      <th>Wife religion</th>\n",
       "      <td>-0.139543</td>\n",
       "      <td>-0.232973</td>\n",
       "      <td>-0.178447</td>\n",
       "      <td>0.073917</td>\n",
       "      <td>1.000000</td>\n",
       "      <td>0.069837</td>\n",
       "      <td>0.084417</td>\n",
       "      <td>-0.196308</td>\n",
       "      <td>0.060243</td>\n",
       "      <td>-0.025271</td>\n",
       "    </tr>\n",
       "    <tr>\n",
       "      <th>Wife working</th>\n",
       "      <td>-0.039880</td>\n",
       "      <td>-0.062200</td>\n",
       "      <td>0.001099</td>\n",
       "      <td>0.097316</td>\n",
       "      <td>0.069837</td>\n",
       "      <td>1.000000</td>\n",
       "      <td>0.014232</td>\n",
       "      <td>-0.076505</td>\n",
       "      <td>0.001828</td>\n",
       "      <td>0.054438</td>\n",
       "    </tr>\n",
       "    <tr>\n",
       "      <th>Husband Occupation</th>\n",
       "      <td>-0.202532</td>\n",
       "      <td>-0.395921</td>\n",
       "      <td>-0.337003</td>\n",
       "      <td>-0.023000</td>\n",
       "      <td>0.084417</td>\n",
       "      <td>0.014232</td>\n",
       "      <td>1.000000</td>\n",
       "      <td>-0.293831</td>\n",
       "      <td>0.113925</td>\n",
       "      <td>0.018161</td>\n",
       "    </tr>\n",
       "    <tr>\n",
       "      <th>Standard-of-living index</th>\n",
       "      <td>0.184485</td>\n",
       "      <td>0.361450</td>\n",
       "      <td>0.357490</td>\n",
       "      <td>-0.006046</td>\n",
       "      <td>-0.196308</td>\n",
       "      <td>-0.076505</td>\n",
       "      <td>-0.293831</td>\n",
       "      <td>1.000000</td>\n",
       "      <td>-0.251359</td>\n",
       "      <td>0.091149</td>\n",
       "    </tr>\n",
       "    <tr>\n",
       "      <th>Media Exposure</th>\n",
       "      <td>0.113306</td>\n",
       "      <td>-0.336080</td>\n",
       "      <td>-0.288691</td>\n",
       "      <td>0.133658</td>\n",
       "      <td>0.060243</td>\n",
       "      <td>0.001828</td>\n",
       "      <td>0.113925</td>\n",
       "      <td>-0.251359</td>\n",
       "      <td>1.000000</td>\n",
       "      <td>-0.119206</td>\n",
       "    </tr>\n",
       "    <tr>\n",
       "      <th>Contraceptive Method</th>\n",
       "      <td>-0.162953</td>\n",
       "      <td>0.149777</td>\n",
       "      <td>0.103226</td>\n",
       "      <td>0.082772</td>\n",
       "      <td>-0.025271</td>\n",
       "      <td>0.054438</td>\n",
       "      <td>0.018161</td>\n",
       "      <td>0.091149</td>\n",
       "      <td>-0.119206</td>\n",
       "      <td>1.000000</td>\n",
       "    </tr>\n",
       "  </tbody>\n",
       "</table>\n",
       "</div>"
      ],
      "text/plain": [
       "                          Wife Age  Wife Education  Husband Education  \\\n",
       "Wife Age                  1.000000       -0.048011          -0.052879   \n",
       "Wife Education           -0.048011        1.000000           0.618369   \n",
       "Husband Education        -0.052879        0.618369           1.000000   \n",
       "Number of Children        0.540126       -0.193839          -0.187513   \n",
       "Wife religion            -0.139543       -0.232973          -0.178447   \n",
       "Wife working             -0.039880       -0.062200           0.001099   \n",
       "Husband Occupation       -0.202532       -0.395921          -0.337003   \n",
       "Standard-of-living index  0.184485        0.361450           0.357490   \n",
       "Media Exposure            0.113306       -0.336080          -0.288691   \n",
       "Contraceptive Method     -0.162953        0.149777           0.103226   \n",
       "\n",
       "                          Number of Children  Wife religion  Wife working  \\\n",
       "Wife Age                            0.540126      -0.139543     -0.039880   \n",
       "Wife Education                     -0.193839      -0.232973     -0.062200   \n",
       "Husband Education                  -0.187513      -0.178447      0.001099   \n",
       "Number of Children                  1.000000       0.073917      0.097316   \n",
       "Wife religion                       0.073917       1.000000      0.069837   \n",
       "Wife working                        0.097316       0.069837      1.000000   \n",
       "Husband Occupation                 -0.023000       0.084417      0.014232   \n",
       "Standard-of-living index           -0.006046      -0.196308     -0.076505   \n",
       "Media Exposure                      0.133658       0.060243      0.001828   \n",
       "Contraceptive Method                0.082772      -0.025271      0.054438   \n",
       "\n",
       "                          Husband Occupation  Standard-of-living index  \\\n",
       "Wife Age                           -0.202532                  0.184485   \n",
       "Wife Education                     -0.395921                  0.361450   \n",
       "Husband Education                  -0.337003                  0.357490   \n",
       "Number of Children                 -0.023000                 -0.006046   \n",
       "Wife religion                       0.084417                 -0.196308   \n",
       "Wife working                        0.014232                 -0.076505   \n",
       "Husband Occupation                  1.000000                 -0.293831   \n",
       "Standard-of-living index           -0.293831                  1.000000   \n",
       "Media Exposure                      0.113925                 -0.251359   \n",
       "Contraceptive Method                0.018161                  0.091149   \n",
       "\n",
       "                          Media Exposure  Contraceptive Method  \n",
       "Wife Age                        0.113306             -0.162953  \n",
       "Wife Education                 -0.336080              0.149777  \n",
       "Husband Education              -0.288691              0.103226  \n",
       "Number of Children              0.133658              0.082772  \n",
       "Wife religion                   0.060243             -0.025271  \n",
       "Wife working                    0.001828              0.054438  \n",
       "Husband Occupation              0.113925              0.018161  \n",
       "Standard-of-living index       -0.251359              0.091149  \n",
       "Media Exposure                  1.000000             -0.119206  \n",
       "Contraceptive Method           -0.119206              1.000000  "
      ]
     },
     "execution_count": 8,
     "metadata": {},
     "output_type": "execute_result"
    }
   ],
   "source": [
    "#correlation\n",
    "data.corr(method ='pearson')"
   ]
  },
  {
   "cell_type": "code",
   "execution_count": 9,
   "id": "865f962b",
   "metadata": {},
   "outputs": [
    {
     "data": {
      "image/png": "[encoded data removed]",
      "text/plain": [
       "<Figure size 864x864 with 2 Axes>"
      ]
     },
     "metadata": {
      "needs_background": "light"
     },
     "output_type": "display_data"
    }
   ],
   "source": [
    "plt.figure(figsize=(12,12))\n",
    "plt.matshow(data.corr(), fignum=1)\n",
    "plt.xticks(range(data.select_dtypes(['number']).shape[1]), data.select_dtypes(['number']).columns, fontsize=14, rotation=90)\n",
    "plt.yticks(range(data.select_dtypes(['number']).shape[1]), data.select_dtypes(['number']).columns, fontsize=14)\n",
    "cb = plt.colorbar()\n",
    "cb.ax.tick_params(labelsize=14)\n",
    "plt.title('Correlation Matrix', fontsize=16);\n"
   ]
  },
  {
   "cell_type": "markdown",
   "id": "845f7d68",
   "metadata": {},
   "source": [
    "#### splitting data"
   ]
  },
  {
   "cell_type": "code",
   "execution_count": 11,
   "id": "399d67cf",
   "metadata": {},
   "outputs": [],
   "source": [
    "# split dataset in features and target variable\n",
    "X = data.loc[:, data.columns != 'Contraceptive Method'].values # Features\n",
    "y = cpt_method.values # Target variable"
   ]
  },
  {
   "cell_type": "code",
   "execution_count": 20,
   "id": "0125c773",
   "metadata": {},
   "outputs": [],
   "source": [
    "X_train, X_test, y_train, y_test = train_test_split(X, y, test_size=0.2, random_state=42)"
   ]
  },
  {
   "cell_type": "markdown",
   "id": "c14ddb7e",
   "metadata": {},
   "source": [
    "#### model fitting: logistic regression"
   ]
  },
  {
   "cell_type": "code",
   "execution_count": 23,
   "id": "a8cd4fb3",
   "metadata": {
    "scrolled": false
   },
   "outputs": [
    {
     "data": {
      "text/plain": [
       "LogisticRegression(max_iter=1000)"
      ]
     },
     "execution_count": 23,
     "metadata": {},
     "output_type": "execute_result"
    }
   ],
   "source": [
    "# define model\n",
    "logisticRegr = LogisticRegression(max_iter=1000)\n",
    "# fit model to training data\n",
    "logisticRegr.fit(X_train, y_train)\n"
   ]
  },
  {
   "cell_type": "code",
   "execution_count": 29,
   "id": "b496e30f",
   "metadata": {},
   "outputs": [
    {
     "data": {
      "text/plain": [
       "array([3, 1, 3, 1, 1, 3, 3, 3, 1, 1, 3, 3, 3, 1, 3, 2, 3, 1, 1, 1, 1, 3,\n",
       "       3, 1, 3, 3, 1, 2, 1, 3, 2, 1, 3, 2, 2, 1, 1, 1, 2, 3, 3, 3, 2, 2,\n",
       "       1, 1, 1, 1, 1, 1, 2, 3, 3, 3, 1, 3, 1, 1, 1, 1, 3, 2, 1, 3, 3, 1,\n",
       "       1, 1, 1, 1, 3, 1, 3, 1, 1, 1, 1, 3, 3, 3, 3, 3, 1, 2, 3, 1, 3, 2,\n",
       "       3, 1, 1, 1, 1, 1, 1, 3, 3, 1, 3, 1, 3, 2, 3, 1, 3, 2, 3, 3, 1, 3,\n",
       "       1, 2, 1, 3, 2, 1, 1, 1, 3, 1, 3, 3, 3, 2, 1, 1, 3, 1, 1, 3, 1, 2,\n",
       "       1, 1, 3, 1, 3, 1, 1, 1, 1, 1, 3, 2, 3, 3, 1, 3, 1, 1, 1, 1, 1, 3,\n",
       "       3, 3, 1, 1, 3, 1, 1, 2, 2, 1, 3, 1, 1, 1, 2, 3, 1, 1, 3, 1, 1, 3,\n",
       "       1, 1, 3, 1, 3, 1, 1, 1, 1, 1, 1, 3, 1, 1, 1, 1, 1, 3, 3, 3, 1, 1,\n",
       "       1, 1, 3, 2, 3, 3, 2, 1, 2, 3, 1, 1, 3, 3, 1, 3, 3, 2, 1, 2, 1, 3,\n",
       "       3, 1, 1, 3, 2, 3, 3, 3, 3, 1, 2, 3, 3, 2, 1, 3, 3, 1, 3, 3, 1, 3,\n",
       "       1, 1, 3, 3, 3, 1, 1, 3, 3, 3, 3, 1, 1, 3, 1, 3, 3, 1, 2, 3, 3, 1,\n",
       "       3, 3, 3, 3, 1, 1, 2, 1, 3, 3, 3, 3, 1, 2, 1, 2, 2, 3, 2, 3, 1, 3,\n",
       "       3, 2, 1, 1, 2, 1, 3, 3, 3])"
      ]
     },
     "execution_count": 29,
     "metadata": {},
     "output_type": "execute_result"
    }
   ],
   "source": [
    "# predicted output of test input\n",
    "logisticRegr.predict(X_test)"
   ]
  },
  {
   "cell_type": "code",
   "execution_count": 37,
   "id": "86fff3df",
   "metadata": {},
   "outputs": [
    {
     "data": {
      "text/plain": [
       "array([3, 1, 2, 1, 1, 2, 2, 1, 1, 1, 3, 3, 2, 1, 3, 3, 3, 3, 1, 1, 1, 2,\n",
       "       2, 1, 1, 1, 3, 2, 1, 1, 2, 1, 2, 2, 3, 3, 3, 3, 1, 3, 1, 1, 3, 2,\n",
       "       1, 1, 3, 2, 2, 3, 2, 1, 1, 3, 3, 3, 1, 1, 2, 1, 2, 3, 1, 2, 3, 1,\n",
       "       1, 1, 1, 1, 3, 1, 2, 1, 3, 1, 1, 2, 1, 3, 3, 2, 1, 2, 3, 1, 3, 2,\n",
       "       2, 1, 1, 1, 3, 1, 1, 1, 1, 1, 1, 2, 1, 3, 2, 1, 3, 2, 1, 3, 1, 1,\n",
       "       1, 1, 3, 3, 2, 1, 1, 1, 1, 1, 1, 2, 3, 3, 2, 2, 3, 3, 2, 1, 1, 2,\n",
       "       2, 3, 3, 1, 1, 2, 1, 3, 3, 2, 3, 1, 3, 1, 1, 3, 1, 1, 1, 1, 1, 1,\n",
       "       3, 1, 3, 1, 3, 1, 3, 2, 2, 1, 1, 3, 1, 1, 2, 1, 1, 3, 3, 1, 1, 3,\n",
       "       1, 1, 2, 1, 2, 1, 1, 1, 1, 1, 1, 1, 3, 1, 3, 1, 3, 3, 3, 2, 3, 2,\n",
       "       1, 1, 2, 1, 3, 2, 2, 1, 1, 1, 3, 1, 3, 2, 3, 3, 3, 2, 1, 2, 1, 3,\n",
       "       1, 2, 1, 1, 2, 3, 2, 1, 3, 3, 2, 2, 3, 3, 1, 2, 3, 3, 3, 2, 1, 3,\n",
       "       2, 3, 2, 3, 2, 3, 1, 3, 3, 2, 1, 1, 1, 1, 1, 3, 3, 1, 2, 3, 1, 1,\n",
       "       3, 3, 1, 2, 1, 2, 1, 3, 2, 1, 2, 3, 3, 3, 2, 2, 2, 1, 3, 1, 1, 3,\n",
       "       3, 2, 1, 2, 2, 3, 2, 3, 3])"
      ]
     },
     "execution_count": 37,
     "metadata": {},
     "output_type": "execute_result"
    }
   ],
   "source": [
    "# ground truth \n",
    "y_test"
   ]
  },
  {
   "cell_type": "code",
   "execution_count": 39,
   "id": "aca24ca2",
   "metadata": {},
   "outputs": [
    {
     "name": "stdout",
     "output_type": "stream",
     "text": [
      "Test Accuracy Score 0.5559322033898305\n"
     ]
    }
   ],
   "source": [
    "# accuracy score\n",
    "score = logisticRegr.score(X_test, y_test)\n",
    "print('Test Accuracy Score', score)\n"
   ]
  },
  {
   "cell_type": "markdown",
   "id": "212beb7b",
   "metadata": {},
   "source": [
    "accuracy is not great! :("
   ]
  }
 ],
 "metadata": {
  "kernelspec": {
   "display_name": "Python 3 (ipykernel)",
   "language": "python",
   "name": "python3"
  },
  "language_info": {
   "codemirror_mode": {
    "name": "ipython",
    "version": 3
   },
   "file_extension": ".py",
   "mimetype": "text/x-python",
   "name": "python",
   "nbconvert_exporter": "python",
   "pygments_lexer": "ipython3",
   "version": "3.9.12"
  }
 },
 "nbformat": 4,
 "nbformat_minor": 5
}
